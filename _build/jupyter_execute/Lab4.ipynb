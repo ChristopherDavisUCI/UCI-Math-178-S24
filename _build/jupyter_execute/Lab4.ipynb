{
 "cells": [
  {
   "block_group": "f74e3d8d089c49f489a72f9c14585b79",
   "cell_type": "markdown",
   "metadata": {
    "cell_id": "c1bb7facc02541079e3da8d50889189d",
    "deepnote_app_block_visible": false,
    "deepnote_cell_type": "markdown"
   },
   "source": [
    "# Lab 4 - Math 178, Spring 2024\n",
    "\n",
    "You are encouraged to work in groups of up to 3 total students, but each student should make a submission on Canvas. (It's fine for everyone in the group to submit the same link.)\n",
    "\n",
    "Put the full names of everyone in your group (even if you're working alone) here. This makes grading easier.\n",
    "\n",
    "**Names**:"
   ]
  },
  {
   "block_group": "ed00ef0c22534df496d694d3efaa5c85",
   "cell_type": "markdown",
   "metadata": {
    "cell_id": "142ad36bf1c6498e81260593480936f2",
    "deepnote_app_block_visible": false,
    "deepnote_cell_type": "markdown"
   },
   "source": [
    "## Train an XOR network using PyTorch"
   ]
  },
  {
   "block_group": "53a5de6e10ca4a9bad12f0d27dd50e57",
   "cell_type": "markdown",
   "metadata": {
    "cell_id": "775203d931f44e19aecf8d0d6f40df28",
    "deepnote_app_block_visible": false,
    "deepnote_cell_type": "markdown"
   },
   "source": [
    "* Use PyTorch to train a neural network which produces a perfect (4 out of 4) prediction rate for XOR.  (This is similar to what you did \"by hand\" on question 2d on Homework 3.  You should not be manually setting the weights, but instead, should be using PyTorch to find weights.  Use a Binary Cross Entropy loss function.  Feel free to use a more complex Neural Network architecture than what you did by hand in the homework.  I was able to eventually get a small neural network architecture to work, but I had to re-run the code numerous times.)\n",
    "\n",
    "Recommended references:\n",
    "1. I primarily used the attached University of Washington notebook, which I downloaded from [Google Colab](https://colab.research.google.com/drive/1up-BwDyjNLISMtXKCMjNomyIOW96JlJh?usp=sharing).\n",
    "2. I personally solved this exercise before reading through the [PyTorch tutorial](https://pytorch.org/tutorials/beginner/basics/quickstart_tutorial.html) which will be used below.  If I had started with that tutorial, maybe I would have used a different approach.  But that tutorial is fancier than what we need here, because of the data loaders etc.\n",
    "\n",
    "Comment:\n",
    "1.  The MNIST portion below is probably easier, in terms of what you need to do, but I'm putting this part first because the resulting neural network here is conceptually simpler."
   ]
  },
  {
   "block_group": "5731b90a5c7b4cfa8a69e48001dcc44f",
   "cell_type": "markdown",
   "metadata": {
    "cell_id": "1ccad643465f4131b76150e774a872ed",
    "deepnote_app_block_visible": false,
    "deepnote_cell_type": "markdown"
   },
   "source": [
    "## Train an MNIST network using PyTorch\n",
    "\n",
    "* Adapt the code at [the PyTorch tutorial](https://pytorch.org/tutorials/beginner/basics/quickstart_tutorial.html) to train an MNIST neural network.  Adjust parameters as necessary to reach at least a 91% test accuracy.  (Be sure you're using `datasets.MNIST` rather than what's in the tutorial: `datasets.FashionMNIST`.  Most other parts of the tutorial should adapt easily.  I deleted the the GPU parts such as `if torch.cuda.is_available()` because I don't think they will work on Deepnote, but perhaps they are useful also here.)"
   ]
  },
  {
   "block_group": "538dd10f752847a2a51f2372278a8688",
   "cell_type": "markdown",
   "metadata": {
    "cell_id": "0e5291e5b102414c91870954b220271b",
    "deepnote_app_block_visible": false,
    "deepnote_cell_type": "markdown",
    "deepnote_to_be_reexecuted": false,
    "execution_millis": 117,
    "execution_start": 1715526908824,
    "source_hash": "a3953636"
   },
   "source": [
    "## Submission\n",
    "\n",
    "* Using the `Share` button at the top right, enable public sharing, and enable Comment privileges. Then submit the created link on Canvas."
   ]
  },
  {
   "block_group": "599d682776af487a8414b38108b9f7ab",
   "cell_type": "markdown",
   "metadata": {
    "cell_id": "2e04c92e86f8457382e641c22d7eee2e",
    "deepnote_app_block_visible": false,
    "deepnote_cell_type": "markdown"
   },
   "source": [
    "## Possible extensions\n",
    "\n",
    "* My code for the small XOR neural network only works about one out of ten times.  Can you produce code that always works, for example, using a `while` loop or some change to the hyperparameters (not including making the hidden layer bigger)?\n",
    "* Neural networks are very prone to overfitting.  Does that happen with your MNIST code?  Can you plot a train and test error curve to demonstrate?  How can you combat overfitting, for example, using `nn.Dropout`?\n",
    "* Can you use Python (don't try to do this by hand) the decision boundary for the XOR classifier from part 1?  Here is some sample code from Math 10 for drawing decision boundaries: https://christopherdavisuci.github.io/UCI-Math-10-S23/Week8/Week8-Wednesday.html"
   ]
  },
  {
   "cell_type": "markdown",
   "metadata": {
    "created_in_deepnote_cell": true,
    "deepnote_cell_type": "markdown"
   },
   "source": [
    "<a style='text-decoration:none;line-height:16px;display:flex;color:#5B5B62;padding:10px;justify-content:end;' href='https://deepnote.com?utm_source=created-in-deepnote-cell&projectId=a1e4b949-7f10-43c1-a39a-6282f9d60b03' target=\"_blank\">\n",
    "<img alt='Created in deepnote.com' style='display:inline;max-height:16px;margin:0px;margin-right:7.5px;' src='data:image/svg+xml;base64,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' > </img>\n",
    "Created in <span style='font-weight:600;margin-left:4px;'>Deepnote</span></a>"
   ]
  }
 ],
 "metadata": {
  "deepnote_execution_queue": [],
  "deepnote_notebook_id": "eb3eb28ab8c24aeeb6bd5345b04d37cf",
  "deepnote_persisted_session": {
   "createdAt": "2024-05-12T21:34:26.572Z"
  }
 },
 "nbformat": 4,
 "nbformat_minor": 0
}